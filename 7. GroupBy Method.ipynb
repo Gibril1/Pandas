{
 "cells": [
  {
   "cell_type": "code",
   "execution_count": null,
   "id": "b1575c5e",
   "metadata": {},
   "outputs": [],
   "source": [
    "covid_df = {\n",
    "    'date':[],\n",
    "    'new_cases':[],\n",
    "    'new_deaths':[],\n",
    "    'new_tests':[]\n",
    "}"
   ]
  },
  {
   "cell_type": "code",
   "execution_count": null,
   "id": "5605517a",
   "metadata": {},
   "outputs": [],
   "source": [
    "# assuming we want to group this data frame based on the months column\n",
    "covid_df.groupby('month')"
   ]
  },
  {
   "cell_type": "code",
   "execution_count": null,
   "id": "fcfce161",
   "metadata": {},
   "outputs": [],
   "source": [
    "# here we want to show the columns that are to be present in this dataframe\n",
    "monthly_group = covid_df.groupby('month')['new_cases','new_deaths','new_tests']"
   ]
  },
  {
   "cell_type": "code",
   "execution_count": null,
   "id": "cc002f0c",
   "metadata": {},
   "outputs": [],
   "source": [
    "# now we can call some methods on it\n",
    "monthly_group.sum()"
   ]
  },
  {
   "cell_type": "code",
   "execution_count": null,
   "id": "f5b88e25",
   "metadata": {},
   "outputs": [],
   "source": [
    "# summing all the values in a column. The cumsum is defined as the cumulative sum\n",
    "covid_df['total_cases']= covid_df['new_cases'].cumsum()"
   ]
  },
  {
   "cell_type": "code",
   "execution_count": null,
   "id": "a53964b6",
   "metadata": {},
   "outputs": [],
   "source": []
  }
 ],
 "metadata": {
  "kernelspec": {
   "display_name": "Python 3 (ipykernel)",
   "language": "python",
   "name": "python3"
  },
  "language_info": {
   "codemirror_mode": {
    "name": "ipython",
    "version": 3
   },
   "file_extension": ".py",
   "mimetype": "text/x-python",
   "name": "python",
   "nbconvert_exporter": "python",
   "pygments_lexer": "ipython3",
   "version": "3.9.12"
  }
 },
 "nbformat": 4,
 "nbformat_minor": 5
}
