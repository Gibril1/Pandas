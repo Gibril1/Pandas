{
 "cells": [
  {
   "cell_type": "code",
   "execution_count": null,
   "id": "df0a25d1",
   "metadata": {},
   "outputs": [],
   "source": [
    "covid_df = {\n",
    "    'date':[],\n",
    "    'new_cases':[],\n",
    "    'new_deaths':[],\n",
    "    'new_tests':[]\n",
    "}"
   ]
  },
  {
   "cell_type": "code",
   "execution_count": null,
   "id": "8db86326",
   "metadata": {},
   "outputs": [],
   "source": [
    "# the date column in the data frame is an object\n",
    "# this is how it to the datetime object\n",
    "covid_df['date'] = pd.to_datetime(covid_df['date'])"
   ]
  },
  {
   "cell_type": "code",
   "execution_count": null,
   "id": "bcaafd7c",
   "metadata": {},
   "outputs": [],
   "source": [
    "# getting the year, month, day and weekday from the date\n",
    "covid_df['year'] = pd.DatetimeIndex(covid_df['date']).year\n",
    "covid_df['month'] = pd.DatetimeIndex(covid_df['date']).month\n",
    "covid_df['day'] = pd.DatetimeIndex(covid_df['date']).day\n",
    "covid_df['weekday'] = pd.DatetimeIndex(covid_df['date']).weekday"
   ]
  },
  {
   "cell_type": "code",
   "execution_count": null,
   "id": "f1d89785",
   "metadata": {},
   "outputs": [],
   "source": [
    "# Query the rows for may\n",
    "covid_df_may = covid_df[covid_df['month'] == 5]"
   ]
  },
  {
   "cell_type": "code",
   "execution_count": null,
   "id": "e18e53a6",
   "metadata": {},
   "outputs": [],
   "source": [
    "# extracting the relevant columns needed for analysis\n",
    "covid_df_may_metrics = covid_df_may[['new_cases', 'new_deaths','new_tests']]"
   ]
  },
  {
   "cell_type": "code",
   "execution_count": null,
   "id": "7bee1d9a",
   "metadata": {},
   "outputs": [],
   "source": [
    "# Get the column wise sum\n",
    "covid_may_sum = covid_df_may_metrics.sum()"
   ]
  },
  {
   "cell_type": "code",
   "execution_count": null,
   "id": "7a721893",
   "metadata": {},
   "outputs": [],
   "source": [
    "# getting the sum of all the cases, tests and months for the month of april\n",
    "covid_df[covid_df['month'] == 5][['new_cases','new_deaths','new_tests']].sum()"
   ]
  },
  {
   "cell_type": "code",
   "execution_count": null,
   "id": "45ae0f51",
   "metadata": {},
   "outputs": [],
   "source": [
    "# average number of cases\n",
    "covid_df['new_cases'].mean()"
   ]
  },
  {
   "cell_type": "code",
   "execution_count": null,
   "id": "f8ba329c",
   "metadata": {},
   "outputs": [],
   "source": [
    "# average number of cases on sundays\n",
    "covid_df[covid_df['weekday'] == 6]['new_cases'].mean()"
   ]
  }
 ],
 "metadata": {
  "kernelspec": {
   "display_name": "Python 3 (ipykernel)",
   "language": "python",
   "name": "python3"
  },
  "language_info": {
   "codemirror_mode": {
    "name": "ipython",
    "version": 3
   },
   "file_extension": ".py",
   "mimetype": "text/x-python",
   "name": "python",
   "nbconvert_exporter": "python",
   "pygments_lexer": "ipython3",
   "version": "3.9.12"
  }
 },
 "nbformat": 4,
 "nbformat_minor": 5
}
