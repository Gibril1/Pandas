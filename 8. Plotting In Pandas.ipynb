{
 "cells": [
  {
   "cell_type": "code",
   "execution_count": null,
   "id": "5d68ac62",
   "metadata": {},
   "outputs": [],
   "source": [
    "# basic plotting with pandas. Assuming we have a dataframe here\n",
    "covid_df = {\n",
    "    'date':[],\n",
    "    'new_cases':[],\n",
    "    'new_deaths':[],\n",
    "    'new_tests':[]\n",
    "}"
   ]
  },
  {
   "cell_type": "code",
   "execution_count": null,
   "id": "641b7b1c",
   "metadata": {},
   "outputs": [],
   "source": [
    "# plotting the graph of any of the columns\n",
    "covid_df['new_cases'].plot()"
   ]
  },
  {
   "cell_type": "code",
   "execution_count": null,
   "id": "fa41531c",
   "metadata": {},
   "outputs": [],
   "source": [
    "# since we want to plot this graph against time. Let us set the index of the\n",
    "# dataframe to be time\n",
    "covid_df.set_index('date', inplace=True)\n",
    "\n",
    "# the date is now the index instead of numbers from 0 to n-1"
   ]
  },
  {
   "cell_type": "code",
   "execution_count": null,
   "id": "0afdcbd8",
   "metadata": {},
   "outputs": [],
   "source": [
    "# now when we plot the graphs of new cases. It plots the graphs against\n",
    "# date\n",
    "\n",
    "death_rate = covid_df['new_deaths'] / covid_df['new_cases']\n",
    "death_rate.plot(title='Death Rate')"
   ]
  },
  {
   "cell_type": "code",
   "execution_count": null,
   "id": "1aa438a6",
   "metadata": {},
   "outputs": [],
   "source": [
    "# in order to find plot a bar graph\n",
    "covid_df['new_tests'].plot(kind='bar')"
   ]
  }
 ],
 "metadata": {
  "kernelspec": {
   "display_name": "Python 3 (ipykernel)",
   "language": "python",
   "name": "python3"
  },
  "language_info": {
   "codemirror_mode": {
    "name": "ipython",
    "version": 3
   },
   "file_extension": ".py",
   "mimetype": "text/x-python",
   "name": "python",
   "nbconvert_exporter": "python",
   "pygments_lexer": "ipython3",
   "version": "3.9.12"
  }
 },
 "nbformat": 4,
 "nbformat_minor": 5
}
