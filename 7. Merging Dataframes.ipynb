{
 "cells": [
  {
   "cell_type": "code",
   "execution_count": null,
   "id": "55b9e1e5",
   "metadata": {},
   "outputs": [],
   "source": [
    "covid_df = {\n",
    "    'date':[],\n",
    "    'new_cases':[],\n",
    "    'new_deaths':[],\n",
    "    'new_tests':[]\n",
    "}"
   ]
  },
  {
   "cell_type": "code",
   "execution_count": null,
   "id": "264da95c",
   "metadata": {},
   "outputs": [],
   "source": [
    "# assuming we want to merge another dataset to our existing dataset. In this case, we want to download a file that contains\n",
    "# health related information about different countries in the world.\n",
    "\n",
    "# Mind you the original dataset we have is the covid-19 dataset of the country Italy\n",
    "location_df = pd.read_csv('location.csv')\n",
    "\n",
    "# therefore this dataframe contains a list of countries with certain health records"
   ]
  },
  {
   "cell_type": "code",
   "execution_count": null,
   "id": "b2bf33db",
   "metadata": {},
   "outputs": [],
   "source": [
    "# getting the records for italy\n",
    "location_df[localtion_df['location'] == 'Italy']"
   ]
  },
  {
   "cell_type": "code",
   "execution_count": null,
   "id": "f7a0501a",
   "metadata": {},
   "outputs": [],
   "source": [
    "# now we want to join these two data frames together. But for two dataframes to be joined together they need to have a \n",
    "# common column between them\n",
    "\n",
    "# let's create a new column called location and give it a value of Italy\n",
    "covid_df['location'] = 'Italy'"
   ]
  },
  {
   "cell_type": "code",
   "execution_count": null,
   "id": "b625c7f6",
   "metadata": {},
   "outputs": [],
   "source": [
    "# now lets merge the two data frames\n",
    "merged_df = covid_df.merge(location_df, on='location')"
   ]
  },
  {
   "cell_type": "code",
   "execution_count": null,
   "id": "64cad1a5",
   "metadata": {},
   "outputs": [],
   "source": [
    "# writing to files\n",
    "\n",
    "# it will convert the datafrane to a csv file\n",
    "merged_df.to_csv('results.csv', index=None)"
   ]
  }
 ],
 "metadata": {
  "kernelspec": {
   "display_name": "Python 3 (ipykernel)",
   "language": "python",
   "name": "python3"
  },
  "language_info": {
   "codemirror_mode": {
    "name": "ipython",
    "version": 3
   },
   "file_extension": ".py",
   "mimetype": "text/x-python",
   "name": "python",
   "nbconvert_exporter": "python",
   "pygments_lexer": "ipython3",
   "version": "3.9.12"
  }
 },
 "nbformat": 4,
 "nbformat_minor": 5
}
