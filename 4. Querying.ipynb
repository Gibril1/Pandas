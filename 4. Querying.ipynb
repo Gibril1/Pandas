{
 "cells": [
  {
   "cell_type": "code",
   "execution_count": null,
   "id": "faa464ea",
   "metadata": {},
   "outputs": [],
   "source": [
    "# let's say we want to look at the days where more than 1000 cases were reported\n",
    "covid_df = {\n",
    "    'date':[],\n",
    "    'new_cases':[],\n",
    "    'new_deaths':[],\n",
    "    'new_tests':[]\n",
    "}"
   ]
  },
  {
   "cell_type": "code",
   "execution_count": null,
   "id": "93963d60",
   "metadata": {},
   "outputs": [],
   "source": [
    "# assuming we want to view the sets of data that have more than 1000 new cases\n",
    "high_new_cases = covid_df['new_cases'] > 1000\n",
    "\n",
    "# the result is a list of boolean depending on whether the conditions wrere met"
   ]
  },
  {
   "cell_type": "code",
   "execution_count": null,
   "id": "a38b9170",
   "metadata": {},
   "outputs": [],
   "source": [
    "covid_df[high_new_cases]\n",
    "\n",
    "# returns a dataframe whose new cases column satisfy the condition"
   ]
  },
  {
   "cell_type": "code",
   "execution_count": null,
   "id": "bb966a38",
   "metadata": {},
   "outputs": [],
   "source": [
    "# this can be done succinly in one line \n",
    "high_new_cases = covid_df[covid_df['new_cases'] > 100]"
   ]
  }
 ],
 "metadata": {
  "kernelspec": {
   "display_name": "Python 3 (ipykernel)",
   "language": "python",
   "name": "python3"
  },
  "language_info": {
   "codemirror_mode": {
    "name": "ipython",
    "version": 3
   },
   "file_extension": ".py",
   "mimetype": "text/x-python",
   "name": "python",
   "nbconvert_exporter": "python",
   "pygments_lexer": "ipython3",
   "version": "3.9.12"
  }
 },
 "nbformat": 4,
 "nbformat_minor": 5
}
