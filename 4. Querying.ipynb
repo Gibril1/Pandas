{
 "cells": [
  {
   "cell_type": "code",
   "execution_count": null,
   "id": "faa464ea",
   "metadata": {},
   "outputs": [],
   "source": [
    "covid_df = {\n",
    "    'date':[],\n",
    "    'new_cases':[],\n",
    "    'new_deaths':[],\n",
    "    'new_tests':[]\n",
    "}"
   ]
  },
  {
   "cell_type": "code",
   "execution_count": null,
   "id": "93963d60",
   "metadata": {},
   "outputs": [],
   "source": [
    "# assuming we want to view the sets of data that have more than 1000 new cases\n",
    "high_new_cases = covid_df['new_cases'] > 1000\n",
    "\n",
    "# the result is a list of boolean depending on whether the conditions wrere met"
   ]
  },
  {
   "cell_type": "code",
   "execution_count": null,
   "id": "a38b9170",
   "metadata": {},
   "outputs": [],
   "source": [
    "covid_df[high_new_cases]\n",
    "\n",
    "# returns a dataframe whose new cases column satisfy the condition"
   ]
  },
  {
   "cell_type": "code",
   "execution_count": null,
   "id": "bb966a38",
   "metadata": {},
   "outputs": [],
   "source": [
    "# this can be done succinly in one line \n",
    "high_new_cases = covid_df[covid_df['new_cases'] > 100]"
   ]
  },
  {
   "cell_type": "code",
   "execution_count": null,
   "id": "9b77ef1b",
   "metadata": {},
   "outputs": [],
   "source": [
    "positive_rate = 0.0667"
   ]
  },
  {
   "cell_type": "code",
   "execution_count": null,
   "id": "c636cbb3",
   "metadata": {},
   "outputs": [],
   "source": [
    "high_ratio_df = covid_df[covid_df['new_cases'] / covid_df['new_tests'] > positive_rate]"
   ]
  },
  {
   "cell_type": "code",
   "execution_count": null,
   "id": "da8823ef",
   "metadata": {},
   "outputs": [],
   "source": [
    "# adding a new column to a dataframe\n",
    "covid_df['positive_rate'] = high_ratio_df"
   ]
  },
  {
   "cell_type": "code",
   "execution_count": null,
   "id": "1d703c3d",
   "metadata": {},
   "outputs": [],
   "source": [
    "# deleting a column from a dataframe\n",
    "covid_df.drop[columns=['positive_rate'], inplace=True]"
   ]
  }
 ],
 "metadata": {
  "kernelspec": {
   "display_name": "Python 3 (ipykernel)",
   "language": "python",
   "name": "python3"
  },
  "language_info": {
   "codemirror_mode": {
    "name": "ipython",
    "version": 3
   },
   "file_extension": ".py",
   "mimetype": "text/x-python",
   "name": "python",
   "nbconvert_exporter": "python",
   "pygments_lexer": "ipython3",
   "version": "3.9.12"
  }
 },
 "nbformat": 4,
 "nbformat_minor": 5
}
