{
 "cells": [
  {
   "cell_type": "code",
   "execution_count": null,
   "id": "2ce67b00",
   "metadata": {},
   "outputs": [],
   "source": [
    "import pandas as pd"
   ]
  },
  {
   "cell_type": "code",
   "execution_count": null,
   "id": "b0604d73",
   "metadata": {},
   "outputs": [],
   "source": [
    "# reading data from a csv file\n",
    "data_df = pd.read_csv('file_name_with_path')"
   ]
  },
  {
   "cell_type": "markdown",
   "id": "ca9c576a",
   "metadata": {},
   "source": [
    "###### Data from the file s read and stored in  a DataFrame object - one of the core data structures inPandas for storing and working with tabular data. We typically use the _df suffix in the variable names for dataframes."
   ]
  },
  {
   "cell_type": "code",
   "execution_count": null,
   "id": "d590f8f4",
   "metadata": {},
   "outputs": [],
   "source": [
    "# we can view basic information about the data frame using the .info method\n",
    "data_df.info()"
   ]
  },
  {
   "cell_type": "code",
   "execution_count": null,
   "id": "a68e92f5",
   "metadata": {},
   "outputs": [],
   "source": [
    "# the describe method gives some statistical description of the dataframe\n",
    "data_df.describe()"
   ]
  },
  {
   "cell_type": "code",
   "execution_count": null,
   "id": "9328eabe",
   "metadata": {},
   "outputs": [],
   "source": [
    "# listing the list of columns\n",
    "data_df.columns"
   ]
  },
  {
   "cell_type": "code",
   "execution_count": null,
   "id": "72d2a3d7",
   "metadata": {},
   "outputs": [],
   "source": [
    "# getting the shape\n",
    "data_df.shape"
   ]
  },
  {
   "cell_type": "code",
   "execution_count": null,
   "id": "103a36d1",
   "metadata": {},
   "outputs": [],
   "source": []
  }
 ],
 "metadata": {
  "kernelspec": {
   "display_name": "Python 3 (ipykernel)",
   "language": "python",
   "name": "python3"
  },
  "language_info": {
   "codemirror_mode": {
    "name": "ipython",
    "version": 3
   },
   "file_extension": ".py",
   "mimetype": "text/x-python",
   "name": "python",
   "nbconvert_exporter": "python",
   "pygments_lexer": "ipython3",
   "version": "3.9.12"
  }
 },
 "nbformat": 4,
 "nbformat_minor": 5
}
