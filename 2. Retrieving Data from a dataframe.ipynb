{
 "cells": [
  {
   "cell_type": "code",
   "execution_count": null,
   "id": "22998aaf",
   "metadata": {},
   "outputs": [],
   "source": [
    "# Pandas data frame is similar to a python dictionary. It is a dictionary of lists\n",
    "covid_data_dict = {\n",
    "    'date':[],\n",
    "    'new_cases':[],\n",
    "    'new_deaths':[],\n",
    "    'new_tests':[]\n",
    "}"
   ]
  },
  {
   "cell_type": "code",
   "execution_count": null,
   "id": "856ee851",
   "metadata": {},
   "outputs": [],
   "source": [
    "# with the above structure in mind, we can retrieve data from a data frame similar to the way data in retrieved from a python dictionary\n",
    "# In order to get the lists of date for example, we do\n",
    "covid_data_dict['date']"
   ]
  },
  {
   "cell_type": "code",
   "execution_count": null,
   "id": "fd34f70b",
   "metadata": {},
   "outputs": [],
   "source": [
    "# here, we can use the bracket notation to retrieve elements from this array\n",
    "covid_data_dict['date'][100]\n",
    "# the expression above retrieves the 100th element from the series"
   ]
  },
  {
   "cell_type": "code",
   "execution_count": null,
   "id": "e2606227",
   "metadata": {},
   "outputs": [],
   "source": [
    "# the at method allows us to select an element from a specific row and column\n",
    "covid_data_dict.at[100, 'date']\n",
    "\n",
    "# it retrieves the data at the 100th element in the date column"
   ]
  },
  {
   "cell_type": "code",
   "execution_count": null,
   "id": "58e611c2",
   "metadata": {},
   "outputs": [],
   "source": [
    "# creating a subset of the dataframe is accessing multiple columns\n",
    "covid_data_dict[['new_cases', 'new_deaths']]\n",
    "\n",
    "# the output is a data frame with columns new cases and new deaths"
   ]
  },
  {
   "cell_type": "code",
   "execution_count": null,
   "id": "99c4dd66",
   "metadata": {},
   "outputs": [],
   "source": [
    "# creating a copy of the data frame\n",
    "covid_data_dict_copy = covid_data_dict.copy()\n",
    "\n",
    "# the covid_data_dict_copy is complete;y separate from the original one.\n",
    "# changing values in the copy will not affect the values in the original one"
   ]
  },
  {
   "cell_type": "code",
   "execution_count": null,
   "id": "52f41283",
   "metadata": {},
   "outputs": [],
   "source": [
    "# to access a specific row, use the loc attribute\n",
    "covid_data_dict.loc[100]\n",
    "\n",
    "# this expression gets the data at the 100th row"
   ]
  },
  {
   "cell_type": "code",
   "execution_count": null,
   "id": "d22b6ea1",
   "metadata": {},
   "outputs": [],
   "source": [
    "# the tail and head methods enables us to view the first and last 5 rows of\n",
    "# a dataframe respectively"
   ]
  },
  {
   "cell_type": "code",
   "execution_count": null,
   "id": "436260ca",
   "metadata": {},
   "outputs": [],
   "source": [
    "# the loc method is used to view the number of rows in certain ranges\n",
    "covid_data_dict.loc[108:113]\n",
    "\n",
    "# the set of rows between 108 and 113 will be listed"
   ]
  },
  {
   "cell_type": "code",
   "execution_count": null,
   "id": "83a84cbb",
   "metadata": {},
   "outputs": [],
   "source": [
    "# the sample method can be used to retrieve a random sample of rows from the data frame\n",
    "covid_data_dict.sample(10)"
   ]
  },
  {
   "cell_type": "code",
   "execution_count": null,
   "id": "084b43c7",
   "metadata": {},
   "outputs": [],
   "source": [
    "# the first value index is going to give the row of the first non null value of a column\n",
    "covid_data_dict['new_tests'].first_value_index()"
   ]
  }
 ],
 "metadata": {
  "kernelspec": {
   "display_name": "Python 3 (ipykernel)",
   "language": "python",
   "name": "python3"
  },
  "language_info": {
   "codemirror_mode": {
    "name": "ipython",
    "version": 3
   },
   "file_extension": ".py",
   "mimetype": "text/x-python",
   "name": "python",
   "nbconvert_exporter": "python",
   "pygments_lexer": "ipython3",
   "version": "3.9.12"
  }
 },
 "nbformat": 4,
 "nbformat_minor": 5
}
